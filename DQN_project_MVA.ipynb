{
  "nbformat": 4,
  "nbformat_minor": 0,
  "metadata": {
    "colab": {
      "name": "DQN_project_MVA.ipynb",
      "version": "0.3.2",
      "provenance": []
    },
    "kernelspec": {
      "name": "python3",
      "display_name": "Python 3"
    },
    "accelerator": "GPU"
  },
  "cells": [
    {
      "metadata": {
        "id": "8RAGzXxq8Oeu",
        "colab_type": "text"
      },
      "cell_type": "markdown",
      "source": [
        "**You may need to install [OpenCV](https://pypi.python.org/pypi/opencv-python) and [scikit-video](http://www.scikit-video.org/stable/).**"
      ]
    },
    {
      "metadata": {
        "id": "4y_C_zpT8VC6",
        "colab_type": "code",
        "outputId": "0694db03-05bf-42ef-a9aa-d99f9fd2ec12",
        "colab": {
          "base_uri": "https://localhost:8080/",
          "height": 106
        }
      },
      "cell_type": "code",
      "source": [
        "!pip install scikit-video"
      ],
      "execution_count": 23,
      "outputs": [
        {
          "output_type": "stream",
          "text": [
            "Requirement already satisfied: scikit-video in /usr/local/lib/python3.6/dist-packages (1.1.11)\n",
            "Requirement already satisfied: numpy in /usr/local/lib/python3.6/dist-packages (from scikit-video) (1.14.6)\n",
            "Requirement already satisfied: pillow in /usr/local/lib/python3.6/dist-packages (from scikit-video) (4.0.0)\n",
            "Requirement already satisfied: scipy in /usr/local/lib/python3.6/dist-packages (from scikit-video) (1.1.0)\n",
            "Requirement already satisfied: olefile in /usr/local/lib/python3.6/dist-packages (from pillow->scikit-video) (0.46)\n"
          ],
          "name": "stdout"
        }
      ]
    },
    {
      "metadata": {
        "id": "S2A0EPvH8Oew",
        "colab_type": "code",
        "colab": {}
      },
      "cell_type": "code",
      "source": [
        "import keras\n",
        "import numpy as np\n",
        "import io\n",
        "import base64\n",
        "from IPython.display import HTML\n",
        "import skvideo.io\n",
        "import cv2\n",
        "import json\n",
        "\n",
        "from keras.models import Sequential,model_from_json\n",
        "from keras.layers.core import Dense\n",
        "from keras.optimizers import sgd\n",
        "from keras.layers import Conv2D, MaxPooling2D, Activation, AveragePooling2D,Reshape,BatchNormalization, Flatten, Dropout"
      ],
      "execution_count": 0,
      "outputs": []
    },
    {
      "metadata": {
        "id": "IVxucKgJ8Oe1",
        "colab_type": "text"
      },
      "cell_type": "markdown",
      "source": [
        "# MiniProject #3: Deep Reinforcement Learning"
      ]
    },
    {
      "metadata": {
        "id": "R5fKxhSg8Oe3",
        "colab_type": "text"
      },
      "cell_type": "markdown",
      "source": [
        "__Notations__: $E_p$ is the expectation under probability $p$. Please justify each of your answer and widely comment your code."
      ]
    },
    {
      "metadata": {
        "id": "QGt8k9Q28Oe4",
        "colab_type": "text"
      },
      "cell_type": "markdown",
      "source": [
        "# Context"
      ]
    },
    {
      "metadata": {
        "id": "xP7o6Iho8Oe5",
        "colab_type": "text"
      },
      "cell_type": "markdown",
      "source": [
        "In a reinforcement learning algorithm, we modelize each step $t$ as an action $a_t$ obtained from a state $s_t$, i.e. $\\{(a_{t},s_{t})_{t\\leq T}\\}$ having the Markov property. We consider a discount factor $\\gamma \\in [0,1]$ that ensures convergence. The goal is to find among all the policies $\\pi$, one that maximizes the expected reward:\n",
        "\n",
        "\\begin{equation*}\n",
        "R(\\pi)=\\sum_{t\\leq T}E_{p^{\\pi}}[\\gamma^t r(s_{t},a_{t})] \\> ,\n",
        "\\end{equation*}\n",
        "\n",
        "where: \n",
        "\\begin{equation*}p^{\\pi}(a_{0},a_{1},s_{1},...,a_{T},s_{T})=p(a_{0})\\prod_{t=1}^{T}\\pi(a_{t}|s_{t})p(s_{t+1}|s_{t},a_{t}) \\> .\n",
        "\\end{equation*}\n",
        "\n",
        "We note the $Q$-function:\n",
        "\n",
        "\\begin{equation*}Q^\\pi(s,a)=E_{p^{\\pi}}[\\sum_{t\\leq T}\\gamma^{t}r(s_{t},a_{t})|s_{0}=s,a_{0}=a] \\> .\n",
        "\\end{equation*}\n",
        "\n",
        "Thus, the optimal Q function is:\n",
        "\\begin{equation*}\n",
        "Q^*(s,a)=\\max_{\\pi}Q^\\pi(s,a) \\> .\n",
        "\\end{equation*}\n",
        "\n",
        "In this project, we will apply the deep reinforcement learning techniques to a simple game: an agent will have to learn from scratch a policy that will permit it maximizing a reward."
      ]
    },
    {
      "metadata": {
        "id": "IhRCA7xW8Oe7",
        "colab_type": "text"
      },
      "cell_type": "markdown",
      "source": [
        "## The environment, the agent and the game"
      ]
    },
    {
      "metadata": {
        "id": "uC0amyuk8Oe8",
        "colab_type": "text"
      },
      "cell_type": "markdown",
      "source": [
        "### The environment"
      ]
    },
    {
      "metadata": {
        "id": "IyHrZ9PS8Oe9",
        "colab_type": "text"
      },
      "cell_type": "markdown",
      "source": [
        "```Environment``` is an abstract class that represents the states, rewards, and actions to obtain the new state."
      ]
    },
    {
      "metadata": {
        "id": "hPjY8I3s8Oe-",
        "colab_type": "code",
        "colab": {}
      },
      "cell_type": "code",
      "source": [
        "class Environment(object):\n",
        "    def __init__(self):\n",
        "        pass\n",
        "\n",
        "    def act(self, act):\n",
        "        \"\"\"\n",
        "        One can act on the environment and obtain its reaction:\n",
        "        - the new state\n",
        "        - the reward of the new state\n",
        "        - should we continue the game?\n",
        "\n",
        "        :return: state, reward, game_over\n",
        "        \"\"\"\n",
        "        pass\n",
        "\n",
        "\n",
        "    def reset(self):\n",
        "        \"\"\"\n",
        "        Reinitialize the environment to a random state and returns\n",
        "        the original state\n",
        "\n",
        "        :return: state\n",
        "        \"\"\"\n",
        "        pass\n",
        "    \n",
        "    def draw(self):\n",
        "        \"\"\"\n",
        "        Visualize in the console or graphically the current state\n",
        "        \"\"\"\n",
        "        pass"
      ],
      "execution_count": 0,
      "outputs": []
    },
    {
      "metadata": {
        "id": "BCAO_tsA8OfC",
        "colab_type": "text"
      },
      "cell_type": "markdown",
      "source": [
        "The method ```act``` allows to act on the environment at a given state $s_t$ (stored internally), via action $a_t$. The method will return the new state $s_{t+1}$, the reward $r(s_{t},a_{t})$ and determines if $t\\leq T$ (*game_over*).\n",
        "\n",
        "The method ```reset``` simply reinitializes the environment to a random state $s_0$.\n",
        "\n",
        "The method ```draw``` displays the current state $s_t$ (this is useful to check the behavior of the Agent).\n",
        "\n",
        "We modelize $s_t$ as a tensor, while $a_t$ is an integer."
      ]
    },
    {
      "metadata": {
        "id": "hXMaoScd8OfD",
        "colab_type": "text"
      },
      "cell_type": "markdown",
      "source": [
        "### The Agent"
      ]
    },
    {
      "metadata": {
        "id": "uKWXQD7a8OfE",
        "colab_type": "text"
      },
      "cell_type": "markdown",
      "source": [
        "The goal of the ```Agent``` is to interact with the ```Environment``` by proposing actions $a_t$ obtained from a given state $s_t$ to attempt to maximize its __reward__ $r(s_t,a_t)$. We propose the following abstract class:"
      ]
    },
    {
      "metadata": {
        "id": "nbihZMMK8OfF",
        "colab_type": "code",
        "colab": {}
      },
      "cell_type": "code",
      "source": [
        "class Agent(object):\n",
        "    def __init__(self, epsilon=0.1, n_action=4):\n",
        "        self.epsilon = epsilon\n",
        "        self.n_action = n_action\n",
        "    \n",
        "    def set_epsilon(self,e):\n",
        "        self.epsilon = e\n",
        "\n",
        "    def act(self,s,train=True):\n",
        "        \"\"\" This function should return the next action to do:\n",
        "        an integer between 0 and 4 (not included) with a random exploration of epsilon\"\"\"\n",
        "        if train:\n",
        "            if np.random.rand() <= self.epsilon:\n",
        "                a = np.random.randint(0, self.n_action, size=1)[0]\n",
        "            else:\n",
        "                a = self.learned_act(s)\n",
        "        else: # in some cases, this can improve the performance.. remove it if poor performances\n",
        "            a = self.learned_act(s)\n",
        "\n",
        "        return a\n",
        "\n",
        "    def learned_act(self,s):\n",
        "        \"\"\" Act via the policy of the agent, from a given state s\n",
        "        it proposes an action a\"\"\"\n",
        "        pass\n",
        "\n",
        "    def reinforce(self, s, n_s, a, r, game_over_):\n",
        "        \"\"\" This function is the core of the learning algorithm. \n",
        "        It takes as an input the current state s_, the next state n_s_\n",
        "        the action a_ used to move from s_ to n_s_ and the reward r_.\n",
        "        \n",
        "        Its goal is to learn a policy.\n",
        "        \"\"\"\n",
        "        pass\n",
        "\n",
        "    def save(self):\n",
        "        \"\"\" This function returns basic stats if applicable: the\n",
        "        loss and/or the model\"\"\"\n",
        "        pass\n",
        "\n",
        "    def load(self):\n",
        "        \"\"\" This function allows to restore a model\"\"\"\n",
        "        pass"
      ],
      "execution_count": 0,
      "outputs": []
    },
    {
      "metadata": {
        "id": "nWhpkE0m8OfJ",
        "colab_type": "text"
      },
      "cell_type": "markdown",
      "source": [
        "***\n",
        "__Question 1__:\n",
        "Explain the function act. Why is ```epsilon``` essential?"
      ]
    },
    {
      "metadata": {
        "id": "2L9bOXOe8OfK",
        "colab_type": "text"
      },
      "cell_type": "markdown",
      "source": [
        "epsilon is essential for random exploration. Without it, the agent would never explore unknown states of the game, and wouldn't be able to learn whether or not some other actions could be better than the ones it already knows."
      ]
    },
    {
      "metadata": {
        "id": "k1AleiLU8OfM",
        "colab_type": "text"
      },
      "cell_type": "markdown",
      "source": [
        "***\n",
        "### The Game"
      ]
    },
    {
      "metadata": {
        "id": "o9DgOwZ48OfN",
        "colab_type": "text"
      },
      "cell_type": "markdown",
      "source": [
        "The ```Agent``` and the ```Environment``` work in an interlaced way as in the following (take some time to understand this code as it is the core of the project)\n",
        "\n",
        "```python\n",
        "\n",
        "epoch = 300\n",
        "env = Environment()\n",
        "agent = Agent()\n",
        "\n",
        "\n",
        "# Number of won games\n",
        "score = 0\n",
        "loss = 0\n",
        "\n",
        "\n",
        "for e in range(epoch):\n",
        "    # At each epoch, we restart to a fresh game and get the initial state\n",
        "    state = env.reset()\n",
        "    # This assumes that the games will end\n",
        "    game_over = False\n",
        "\n",
        "    win = 0\n",
        "    lose = 0\n",
        "    \n",
        "    while not game_over:\n",
        "        # The agent performs an action\n",
        "        action = agent.act(state)\n",
        "\n",
        "        # Apply an action to the environment, get the next state, the reward\n",
        "        # and if the games end\n",
        "        prev_state = state\n",
        "        state, reward, game_over = env.act(action)\n",
        "\n",
        "        # Update the counters\n",
        "        if reward > 0:\n",
        "            win = win + reward\n",
        "        if reward < 0:\n",
        "            lose = lose -reward\n",
        "\n",
        "        # Apply the reinforcement strategy\n",
        "        loss = agent.reinforce(prev_state, state,  action, reward, game_over)\n",
        "\n",
        "    # Save as a mp4\n",
        "    if e % 10 == 0:\n",
        "        env.draw(e)\n",
        "\n",
        "    # Update stats\n",
        "    score += win-lose\n",
        "\n",
        "    print(\"Epoch {:03d}/{:03d} | Loss {:.4f} | Win/lose count {}/{} ({})\"\n",
        "          .format(e, epoch, loss, win, lose, win-lose))\n",
        "    agent.save()\n",
        "```"
      ]
    },
    {
      "metadata": {
        "id": "TWnYAzOt8OfO",
        "colab_type": "text"
      },
      "cell_type": "markdown",
      "source": [
        "# The game, *eat cheese*"
      ]
    },
    {
      "metadata": {
        "id": "SMJ5t_Rd8OfQ",
        "colab_type": "text"
      },
      "cell_type": "markdown",
      "source": [
        "A rat runs on an island and tries to eat as much as possible. The island is subdivided into $N\\times N$ cells, in which there are cheese (+0.5) and poisonous cells (-1). The rat has a visibility of 2 cells (thus it can see $5^2$ cells). The rat is given a time $T$ to accumulate as much food as possible. It can perform 4 actions: going up, down, left, right. \n",
        "\n",
        "The goal is to code an agent to solve this task that will learn by trial and error. We propose the following environment:"
      ]
    },
    {
      "metadata": {
        "id": "dGz9aUZC8OfS",
        "colab_type": "code",
        "colab": {}
      },
      "cell_type": "code",
      "source": [
        "class Environment(object):\n",
        "    def __init__(self, grid_size=10, max_time=500, temperature=0.1):\n",
        "        grid_size = grid_size+4\n",
        "        self.grid_size = grid_size\n",
        "        self.max_time = max_time\n",
        "        self.temperature = temperature\n",
        "\n",
        "        #board on which one plays\n",
        "        self.board = np.zeros((grid_size,grid_size))\n",
        "        self.position = np.zeros((grid_size,grid_size))\n",
        "\n",
        "        # coordinate of the cat\n",
        "        self.x = 0\n",
        "        self.y = 1\n",
        "\n",
        "        # self time\n",
        "        self.t = 0\n",
        "\n",
        "        self.scale=16\n",
        "\n",
        "        self.to_draw = np.zeros((max_time+2, grid_size*self.scale, grid_size*self.scale, 3))\n",
        "\n",
        "\n",
        "    def draw(self,e):\n",
        "        skvideo.io.vwrite(str(e) + '.mp4', self.to_draw)\n",
        "\n",
        "    def get_frame(self,t):\n",
        "        b = np.zeros((self.grid_size,self.grid_size,3))+128\n",
        "        b[self.board>0,0] = 256\n",
        "        b[self.board < 0, 2] = 256\n",
        "        b[self.x,self.y,:]=256\n",
        "        b[-2:,:,:]=0\n",
        "        b[:,-2:,:]=0\n",
        "        b[:2,:,:]=0\n",
        "        b[:,:2,:]=0\n",
        "        \n",
        "        b =  cv2.resize(b, None, fx=self.scale, fy=self.scale, interpolation=cv2.INTER_NEAREST)\n",
        "\n",
        "        self.to_draw[t,:,:,:]=b\n",
        "\n",
        "\n",
        "    def act(self, action):\n",
        "        \"\"\"This function returns the new state, reward and decides if the\n",
        "        game ends.\"\"\"\n",
        "\n",
        "        self.get_frame(int(self.t))\n",
        "\n",
        "        self.position = np.zeros((self.grid_size, self.grid_size))\n",
        "\n",
        "        self.position[0:2,:]= -1\n",
        "        self.position[:,0:2] = -1\n",
        "        self.position[-2:, :] = -1\n",
        "        self.position[:, -2] = -1\n",
        "\n",
        "        self.position[self.x, self.y] = 1\n",
        "        if action == 0:\n",
        "            if self.x == self.grid_size-3:\n",
        "                self.x = self.x-1\n",
        "            else:\n",
        "                self.x = self.x + 1\n",
        "        elif action == 1:\n",
        "            if self.x == 2:\n",
        "                self.x = self.x+1\n",
        "            else:\n",
        "                self.x = self.x-1\n",
        "        elif action == 2:\n",
        "            if self.y == self.grid_size - 3:\n",
        "                self.y = self.y - 1\n",
        "            else:\n",
        "                self.y = self.y + 1\n",
        "        elif action == 3:\n",
        "            if self.y == 2:\n",
        "                self.y = self.y + 1\n",
        "            else:\n",
        "                self.y = self.y - 1\n",
        "        else:\n",
        "            RuntimeError('Error: action not recognized')\n",
        "\n",
        "        self.t = self.t + 1\n",
        "        reward = self.board[self.x, self.y]\n",
        "        self.board[self.x, self.y] = 0\n",
        "        game_over = self.t > self.max_time\n",
        "        state = np.concatenate((self.board.reshape(self.grid_size, self.grid_size,1),\n",
        "                        self.position.reshape(self.grid_size, self.grid_size,1)),axis=2)\n",
        "        state = state[self.x-2:self.x+3,self.y-2:self.y+3,:]\n",
        "\n",
        "        return state, reward, game_over\n",
        "\n",
        "    def reset(self):\n",
        "        \"\"\"This function resets the game and returns the initial state\"\"\"\n",
        "\n",
        "        self.x = np.random.randint(3, self.grid_size-3, size=1)[0]\n",
        "        self.y = np.random.randint(3, self.grid_size-3, size=1)[0]\n",
        "\n",
        "\n",
        "        bonus = 0.5*np.random.binomial(1,self.temperature,size=self.grid_size**2)\n",
        "        bonus = bonus.reshape(self.grid_size,self.grid_size)\n",
        "\n",
        "        malus = -1.0*np.random.binomial(1,self.temperature,size=self.grid_size**2)\n",
        "        malus = malus.reshape(self.grid_size, self.grid_size)\n",
        "\n",
        "        self.to_draw = np.zeros((self.max_time+2, self.grid_size*self.scale, self.grid_size*self.scale, 3))\n",
        "\n",
        "\n",
        "        malus[bonus>0]=0\n",
        "\n",
        "        self.board = bonus + malus\n",
        "\n",
        "        self.position = np.zeros((self.grid_size, self.grid_size))\n",
        "        self.position[0:2,:]= -1\n",
        "        self.position[:,0:2] = -1\n",
        "        self.position[-2:, :] = -1\n",
        "        self.position[-2:, :] = -1\n",
        "        self.board[self.x,self.y] = 0\n",
        "        self.t = 0\n",
        "\n",
        "        state = np.concatenate((\n",
        "                               self.board.reshape(self.grid_size, self.grid_size,1),\n",
        "                        self.position.reshape(self.grid_size, self.grid_size,1)),axis=2)\n",
        "\n",
        "        state = state[self.x - 2:self.x + 3, self.y - 2:self.y + 3, :]\n",
        "        return state"
      ],
      "execution_count": 0,
      "outputs": []
    },
    {
      "metadata": {
        "id": "xQW87FTo8OfW",
        "colab_type": "text"
      },
      "cell_type": "markdown",
      "source": [
        "The following elements are important because they correspond to the hyper parameters for this project:"
      ]
    },
    {
      "metadata": {
        "id": "vEJgwQCf8OfX",
        "colab_type": "code",
        "colab": {}
      },
      "cell_type": "code",
      "source": [
        "# parameters\n",
        "size = 13\n",
        "T=200\n",
        "temperature=0.3\n",
        "epochs_train=20 # set small when debugging\n",
        "epochs_test= 10# set small when debugging\n",
        "\n",
        "# display videos\n",
        "def display_videos(name):\n",
        "    video = io.open(name, 'r+b').read()\n",
        "    encoded = base64.b64encode(video)\n",
        "    return '''<video alt=\"test\" controls>\n",
        "                <source src=\"data:video/mp4;base64,{0}\" type=\"video/mp4\" />\n",
        "             </video>'''.format(encoded.decode('ascii'))"
      ],
      "execution_count": 0,
      "outputs": []
    },
    {
      "metadata": {
        "id": "GPifjW5_8Ofc",
        "colab_type": "text"
      },
      "cell_type": "markdown",
      "source": [
        "__Question 2__ Explain the use of the arrays ```position``` and ```board```."
      ]
    },
    {
      "metadata": {
        "id": "_GwgAWTR8Ofd",
        "colab_type": "text"
      },
      "cell_type": "markdown",
      "source": [
        "\n",
        "Array is used to locate the rat on the board. Board is used to indicate where the rewards and the traps are. On both, we've put a padding on the sides to indicate where the rat can't go.\n"
      ]
    },
    {
      "metadata": {
        "id": "OYvw_lIR8Ofe",
        "colab_type": "text"
      },
      "cell_type": "markdown",
      "source": [
        "## Random Agent"
      ]
    },
    {
      "metadata": {
        "id": "bbnDli668Off",
        "colab_type": "text"
      },
      "cell_type": "markdown",
      "source": [
        "***\n",
        "__Question 3__ Implement a random Agent (only ```learned_act``` needs to be implemented):"
      ]
    },
    {
      "metadata": {
        "id": "_RTFLZnf8Ofg",
        "colab_type": "code",
        "colab": {}
      },
      "cell_type": "code",
      "source": [
        "class RandomAgent(Agent):\n",
        "    def __init__(self):\n",
        "        super(RandomAgent, self).__init__()\n",
        "        pass\n",
        "\n",
        "    def learned_act(self, s):\n",
        "        return np.random.randint(4)"
      ],
      "execution_count": 0,
      "outputs": []
    },
    {
      "metadata": {
        "id": "GEIG-maZ8Ofk",
        "colab_type": "text"
      },
      "cell_type": "markdown",
      "source": [
        "***\n",
        "***\n",
        "__Question 4__ Visualize the game moves. You need to fill in the following function for the evaluation:"
      ]
    },
    {
      "metadata": {
        "id": "hUdpnrpJ8Ofl",
        "colab_type": "code",
        "colab": {}
      },
      "cell_type": "code",
      "source": [
        "def test(agent,env,epochs,prefix=''):\n",
        "    # Number of won games\n",
        "    score = 0\n",
        "    agent.epsilon =0.05\n",
        "    for e in range(epochs):\n",
        "        # At each epoch, we restart to a fresh game and get the initial state\n",
        "        state = env.reset()\n",
        "        # This assumes that the games will end\n",
        "        game_over = False\n",
        "\n",
        "        win = 0\n",
        "        lose = 0\n",
        "\n",
        "        while not game_over:\n",
        "            # The agent performs an action\n",
        "            action = agent.act(state)\n",
        "\n",
        "            # Apply an action to the environment, get the next state, the reward\n",
        "            # and if the games end\n",
        "            prev_state = state\n",
        "            state, reward, game_over = env.act(action)\n",
        "\n",
        "            # Update the counters\n",
        "            if reward > 0:\n",
        "                win = win + reward\n",
        "            if reward < 0:\n",
        "                lose = lose -reward\n",
        "\n",
        "        # Save as a mp4\n",
        "        env.draw(prefix+str(e))\n",
        "        # Update stats\n",
        "        score += win-lose\n",
        "\n",
        "        print(\"Win/lose count {}/{}. Average score ({})\"\n",
        "                  .format(win, lose, score/(1+e)))\n",
        "\n",
        "    print('Final score: '+str(score/epochs))\n",
        "\n"
      ],
      "execution_count": 0,
      "outputs": []
    },
    {
      "metadata": {
        "id": "tzdYd7eI8Ofo",
        "colab_type": "code",
        "outputId": "8a4ef908-f194-4bb7-ecb5-8bdded560d2f",
        "colab": {
          "base_uri": "https://localhost:8080/",
          "height": 366
        }
      },
      "cell_type": "code",
      "source": [
        "# Initialize the game\n",
        "env = Environment(grid_size=size, max_time=T,temperature=temperature)\n",
        "\n",
        "# Initialize the agent!\n",
        "agent = RandomAgent()\n",
        "\n",
        "test(agent,env,epochs_test,prefix='random')\n",
        "HTML(display_videos('random0.mp4'))"
      ],
      "execution_count": 31,
      "outputs": [
        {
          "output_type": "stream",
          "text": [
            "Win/lose count 12.5/16.0. Average score (-3.5)\n",
            "Win/lose count 15.0/11.0. Average score (0.25)\n",
            "Win/lose count 14.5/16.0. Average score (-0.3333333333333333)\n",
            "Win/lose count 9.0/13.0. Average score (-1.25)\n",
            "Win/lose count 8.0/16.0. Average score (-2.6)\n",
            "Win/lose count 6.5/13.0. Average score (-3.25)\n",
            "Win/lose count 10.5/12.0. Average score (-3.0)\n",
            "Win/lose count 5.0/12.0. Average score (-3.5)\n",
            "Win/lose count 8.5/10.0. Average score (-3.2777777777777777)\n",
            "Win/lose count 4.0/14.0. Average score (-3.95)\n",
            "Final score: -3.95\n"
          ],
          "name": "stdout"
        },
        {
          "output_type": "execute_result",
          "data": {
            "text/html": [
              "<video alt=\"test\" controls>\n",
              "                <source src=\"data:video/mp4;base64,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\" type=\"video/mp4\" />\n",
              "             </video>"
            ],
            "text/plain": [
              "<IPython.core.display.HTML object>"
            ]
          },
          "metadata": {
            "tags": []
          },
          "execution_count": 31
        }
      ]
    },
    {
      "metadata": {
        "id": "s_kN3xPZ8Oft",
        "colab_type": "text"
      },
      "cell_type": "markdown",
      "source": [
        "***\n",
        "## DQN"
      ]
    },
    {
      "metadata": {
        "id": "5_7ghNXf8Ofu",
        "colab_type": "text"
      },
      "cell_type": "markdown",
      "source": [
        "Let us assume here that $T=\\infty$.\n",
        "\n",
        "***\n",
        "__Question 5__ Let $\\pi$ be a policy, show that:\n",
        "\n",
        "\\begin{equation*}\n",
        "Q^\\pi(s,a)=E_{p^{\\pi}}[\\sum_{t\\leq \\infty}\\gamma^{t}r(s_{t},a_{t})|s_{0}=s,a_{0}=a] \\> \\\\\n",
        "Q^\\pi(s,a)=E_{p^{\\pi}}[r(s,a)+\\sum_{t=1}^{\\infty}\\gamma^{t}r(s_{t},a_{t})|s_{0}=s,a_{0}=a] \\> \\\\\n",
        "Q^\\pi(s,a)=E_{p^{\\pi}}[r(s,a)+\\sum_{t=1}^{\\infty}\\gamma^{t}r(s_{t},a_{t})|s_{0}=s,a_{0}=a] \\> \\\\\n",
        "Q^\\pi(s,a)=E_{p^{\\pi}}[r(s,a)+\\gamma\\sum_{t\\leq\\infty}\\gamma^{t}r(s_{t+1},a_{t+1})|s_{0}=s,a_{0}=a] \\> \\\\\n",
        "Q^{\\pi}(s,a)=E_{(s',a')\\sim p(.|s,a)}[r(s,a)+\\gamma E_{p^{\\pi}}[\\sum_{t\\leq \\infty}\\gamma^{t}r(s_{t},a_{t})|s_{0}=s',a_{0}=a'] ]\\\\\n",
        "Q^{\\pi}(s,a)=E_{(s',a')\\sim p(.|s,a)}[r(s,a)+\\gamma Q^{\\pi}(s',a')]\n",
        "\\end{equation*}\n",
        "\n",
        "Then, show that for the optimal policy $\\pi^*$ (we assume its existence), the following holds: \n",
        "\n",
        "\\begin{equation*}\n",
        "Q^{*}(s,a)=\\max_{\\pi}E_{(s',a')\\sim p(.|s,a)}[r(s,a)+\\gamma Q^{\\pi}(s',a')]\\\\\n",
        "Q^{*}(s,a)=E[r(s,a)]+\\gamma\\max_{\\pi}E_{(s',a')\\sim p^{\\pi}(.|s,a)}[Q^{\\pi}(s',a')]\\\\\n",
        "  a^{*}=\\arg \\max _{a} Q^{\\pi}(s,a)  \\\\\n",
        "Q^{*}(s,a)=E_{s'\\sim \\pi^*(.|s,a)}[r(s,a)+\\gamma\\max_{a'}Q^{*}(s',a')].\n",
        "\\end{equation*}\n",
        "Finally, deduce that a plausible objective is:\n",
        "\n",
        "\\begin{equation*}\n",
        "\\mathcal{L}(\\theta)=E_{s' \\sim \\pi^*(.|s,a)}\\Vert r+\\gamma\\max\\max_{a'}Q(s',a',\\theta)-Q(s,a,\\theta)\\Vert^{2}.\n",
        "\\end{equation*}\n",
        "\n",
        "\n"
      ]
    },
    {
      "metadata": {
        "id": "bubgajRV8Ofv",
        "colab_type": "text"
      },
      "cell_type": "markdown",
      "source": [
        ""
      ]
    },
    {
      "metadata": {
        "id": "TZL6Ms7P8Ofw",
        "colab_type": "text"
      },
      "cell_type": "markdown",
      "source": [
        "***\n",
        "The DQN-learning algorithm relies on these derivations to train the parameters $\\theta$ of a Deep Neural Network:\n",
        "\n",
        "1. At the state $s_t$, select the action $a_t$ with best reward using $Q_t$ and store the results;\n",
        "\n",
        "2. Obtain the new state $s_{t+1}$ from the environment $p$;\n",
        "\n",
        "3. Store $(s_t,a_t,s_{t+1})$;\n",
        "\n",
        "4. Obtain $Q_{t+1}$ by minimizing  $\\mathcal{L}$ from a recovered batch from the previously stored results.\n",
        "\n",
        "***\n",
        "__Question 6__ Implement the class ```Memory``` that stores moves (in a replay buffer) via ```remember``` and provides a ```random_access``` to these. Specify a maximum memory size to avoid side effects. You can for example use a ```list()``` and set by default ```max_memory=100```."
      ]
    },
    {
      "metadata": {
        "id": "jF8wBFgN8Ofx",
        "colab_type": "code",
        "colab": {}
      },
      "cell_type": "code",
      "source": [
        "class Memory(object):\n",
        "    def __init__(self, max_memory=100):\n",
        "        self.max_memory = max_memory\n",
        "        self.memory = list()\n",
        "\n",
        "    def remember(self, m):\n",
        "        if len(self.memory) == self.max_memory:\n",
        "          self.memory.pop(0)\n",
        "        self.memory.append(m)\n",
        "        return\n",
        "\n",
        "    def random_access(self):\n",
        "        return self.memory[np.random.randint(len(self.memory))]"
      ],
      "execution_count": 0,
      "outputs": []
    },
    {
      "metadata": {
        "id": "e8ufFbc78Of2",
        "colab_type": "text"
      },
      "cell_type": "markdown",
      "source": [
        "***\n",
        "The pipeline we will use for training is given below:"
      ]
    },
    {
      "metadata": {
        "id": "_CDXC3Hj8Of5",
        "colab_type": "code",
        "colab": {}
      },
      "cell_type": "code",
      "source": [
        "def train(agent,env,epoch,prefix=''):\n",
        "    # Number of won games\n",
        "    score = 0\n",
        "    loss = 0\n",
        "\n",
        "    for e in range(epoch):\n",
        "        # At each epoch, we restart to a fresh game and get the initial state\n",
        "        state = env.reset()\n",
        "        # This assumes that the games will terminate\n",
        "        game_over = False\n",
        "\n",
        "        win = 0\n",
        "        lose = 0\n",
        "\n",
        "        while not game_over:\n",
        "            # The agent performs an action\n",
        "            action = agent.act(state)\n",
        "\n",
        "            # Apply an action to the environment, get the next state, the reward\n",
        "            # and if the games end\n",
        "            prev_state = state\n",
        "            state, reward, game_over = env.act(action)\n",
        "\n",
        "            # Update the counters\n",
        "            if reward > 0:\n",
        "                win = win + reward\n",
        "            if reward < 0:\n",
        "                lose = lose -reward\n",
        "\n",
        "            # Apply the reinforcement strategy\n",
        "            loss = agent.reinforce(prev_state, state,  action, reward, game_over)\n",
        "\n",
        "        # Save as a mp4\n",
        "        if e % 10 == 0:\n",
        "            env.draw(prefix+str(e))\n",
        "\n",
        "        # Update stats\n",
        "        score += win-lose\n",
        "\n",
        "        print(\"Epoch {:03d}/{:03d} | Loss {:.4f} | Win/lose count {}/{} ({})\"\n",
        "              .format(e, epoch, loss, win, lose, win-lose))\n",
        "        agent.save(name_weights=prefix+'model.h5',name_model=prefix+'model.json')"
      ],
      "execution_count": 0,
      "outputs": []
    },
    {
      "metadata": {
        "id": "ef37OUP18Of8",
        "colab_type": "text"
      },
      "cell_type": "markdown",
      "source": [
        "***\n",
        "__Question 7__ Implement the DQN training algorithm using a cascade of fully connected layers. You can use different learning rate, batch size or memory size parameters. In particular, the loss might oscillate while the player will start to win the games. You have to find a good criterium."
      ]
    },
    {
      "metadata": {
        "id": "HcnCEGRj8Of9",
        "colab_type": "code",
        "colab": {}
      },
      "cell_type": "code",
      "source": [
        "class DQN(Agent):\n",
        "    def __init__(self, grid_size,  epsilon = 0.1, memory_size=100, batch_size = 16,n_state=2):\n",
        "        super(DQN, self).__init__(epsilon = epsilon)\n",
        "\n",
        "        # Discount for Q learning\n",
        "        self.discount = 0.99\n",
        "        \n",
        "        self.grid_size = grid_size\n",
        "        \n",
        "        # number of state\n",
        "        self.n_state = n_state\n",
        "\n",
        "        # Memory\n",
        "        self.memory = Memory(memory_size)\n",
        "        \n",
        "        # Batch size when learning\n",
        "        self.batch_size = batch_size\n",
        "\n",
        "    def learned_act(self, s):\n",
        "        return np.argmax(self.model.predict(s[np.newaxis]))\n",
        "\n",
        "    def reinforce(self, s_, n_s_, a_, r_, game_over_):\n",
        "        # Two steps: first memorize the states, second learn from the pool\n",
        "\n",
        "        self.memory.remember([s_, n_s_, a_, r_, game_over_])\n",
        "        \n",
        "        input_states = np.zeros((self.batch_size, 5,5,self.n_state))\n",
        "        target_q = np.zeros((self.batch_size, 4))\n",
        "        \n",
        "        for i in range(self.batch_size):\n",
        "            ######## FILL IN\n",
        "            state, next_state, action, reward, game_over = self.memory.random_access()\n",
        "            input_states[i] = state\n",
        "            target_q[i] = self.model.predict([[state]])\n",
        "            if game_over_:\n",
        "                target_q[i][action] = reward\n",
        "                ######## FILL IN\n",
        "            else:\n",
        "                pred = self.model.predict([[next_state]])\n",
        "                max_q = np.max(pred)\n",
        "                target_q[i][action] = reward + self.discount*max_q\n",
        "                ######## FILL IN\n",
        "        ######## FILL IN\n",
        "        \n",
        "        # HINT: Clip the target to avoid exploiding gradients.. -- clipping is a bit tighter\n",
        "        target_q = np.clip(target_q, -3, 3)\n",
        "\n",
        "        l = self.model.train_on_batch(input_states, target_q)\n",
        "\n",
        "\n",
        "        return l\n",
        "\n",
        "    def save(self,name_weights='model.h5',name_model='model.json'):\n",
        "        self.model.save_weights(name_weights, overwrite=True)\n",
        "        with open(name_model, \"w\") as outfile:\n",
        "            json.dump(self.model.to_json(), outfile)\n",
        "            \n",
        "    def load(self,name_weights='model.h5',name_model='model.json'):\n",
        "        with open(name_model, \"r\") as jfile:\n",
        "            model = model_from_json(json.load(jfile))\n",
        "        model.load_weights(name_weights)\n",
        "        model.compile(\"sgd\", \"mse\")\n",
        "        self.model = model\n",
        "\n",
        "            \n",
        "class DQN_FC(DQN):\n",
        "    def __init__(self, *args, lr=0.1,**kwargs):\n",
        "        super(DQN_FC, self).__init__( *args,**kwargs)\n",
        "        \n",
        "        # NN Model\n",
        "        \n",
        "        ####### FILL IN\n",
        "        model = Sequential()\n",
        "        model.add(Flatten(input_shape = (5,5,self.n_state)))\n",
        "        model.add(Dense(1024))\n",
        "        model.add(Dropout(rate=0.2))\n",
        "        model.add(Dense(512))\n",
        "        model.add(Dropout(rate=0.2))\n",
        "        model.add(Dense(4))\n",
        "        model.compile(sgd(lr=lr, decay=1e-4, momentum=0.0), \"mse\")\n",
        "        self.model = model\n",
        "        "
      ],
      "execution_count": 0,
      "outputs": []
    },
    {
      "metadata": {
        "id": "6Rd7N6yN8OgA",
        "colab_type": "code",
        "outputId": "5361d63f-6991-486e-c0e5-e9596b9d2e0d",
        "colab": {
          "base_uri": "https://localhost:8080/",
          "height": 704
        }
      },
      "cell_type": "code",
      "source": [
        "env = Environment(grid_size=size, max_time=T, temperature=0.3)\n",
        "agent = DQN_FC(size, lr=.1, epsilon = 0.1, memory_size=2000, batch_size = 32)\n",
        "train(agent, env, epoch=30, prefix='fc_train')\n",
        "HTML(display_videos('fc_train10.mp4'))"
      ],
      "execution_count": 35,
      "outputs": [
        {
          "output_type": "stream",
          "text": [
            "Epoch 000/030 | Loss 1.6183 | Win/lose count 4.0/3.0 (1.0)\n",
            "Epoch 001/030 | Loss 1.0528 | Win/lose count 5.0/5.0 (0.0)\n",
            "Epoch 002/030 | Loss 1.0108 | Win/lose count 2.0/6.0 (-4.0)\n",
            "Epoch 003/030 | Loss 0.7364 | Win/lose count 3.5/5.0 (-1.5)\n",
            "Epoch 004/030 | Loss 1.1886 | Win/lose count 4.5/5.0 (-0.5)\n",
            "Epoch 005/030 | Loss 1.1346 | Win/lose count 4.0/3.0 (1.0)\n",
            "Epoch 006/030 | Loss 0.9165 | Win/lose count 3.0/1.0 (2.0)\n",
            "Epoch 007/030 | Loss 0.9975 | Win/lose count 2.5/4.0 (-1.5)\n",
            "Epoch 008/030 | Loss 1.1934 | Win/lose count 4.0/0 (4.0)\n",
            "Epoch 009/030 | Loss 1.5628 | Win/lose count 2.0/6.0 (-4.0)\n",
            "Epoch 010/030 | Loss 1.2916 | Win/lose count 2.5/3.0 (-0.5)\n",
            "Epoch 011/030 | Loss 1.2652 | Win/lose count 7.0/1.0 (6.0)\n",
            "Epoch 012/030 | Loss 1.6615 | Win/lose count 3.0/3.0 (0.0)\n",
            "Epoch 013/030 | Loss 1.7366 | Win/lose count 2.5/3.0 (-0.5)\n",
            "Epoch 014/030 | Loss 1.5019 | Win/lose count 6.0/1.0 (5.0)\n",
            "Epoch 015/030 | Loss 1.6897 | Win/lose count 3.5/1.0 (2.5)\n",
            "Epoch 016/030 | Loss 1.4141 | Win/lose count 2.0/7.0 (-5.0)\n",
            "Epoch 017/030 | Loss 1.2872 | Win/lose count 3.0/4.0 (-1.0)\n",
            "Epoch 018/030 | Loss 1.1627 | Win/lose count 3.5/0 (3.5)\n",
            "Epoch 019/030 | Loss 1.3034 | Win/lose count 4.5/1.0 (3.5)\n",
            "Epoch 020/030 | Loss 1.4428 | Win/lose count 7.5/4.0 (3.5)\n",
            "Epoch 021/030 | Loss 1.4894 | Win/lose count 5.0/1.0 (4.0)\n",
            "Epoch 022/030 | Loss 1.3946 | Win/lose count 5.0/6.0 (-1.0)\n",
            "Epoch 023/030 | Loss 1.3926 | Win/lose count 2.5/4.0 (-1.5)\n",
            "Epoch 024/030 | Loss 1.3939 | Win/lose count 2.0/1.0 (1.0)\n",
            "Epoch 025/030 | Loss 1.4084 | Win/lose count 2.0/0 (2.0)\n",
            "Epoch 026/030 | Loss 1.4798 | Win/lose count 7.5/4.0 (3.5)\n",
            "Epoch 027/030 | Loss 1.5960 | Win/lose count 5.0/1.0 (4.0)\n",
            "Epoch 028/030 | Loss 1.3113 | Win/lose count 3.0/2.0 (1.0)\n",
            "Epoch 029/030 | Loss 1.4712 | Win/lose count 5.0/0 (5.0)\n"
          ],
          "name": "stdout"
        },
        {
          "output_type": "execute_result",
          "data": {
            "text/html": [
              "<video alt=\"test\" controls>\n",
              "                <source src=\"data:video/mp4;base64,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\" type=\"video/mp4\" />\n",
              "             </video>"
            ],
            "text/plain": [
              "<IPython.core.display.HTML object>"
            ]
          },
          "metadata": {
            "tags": []
          },
          "execution_count": 35
        }
      ]
    },
    {
      "metadata": {
        "id": "acXN_eyD8OgD",
        "colab_type": "text"
      },
      "cell_type": "markdown",
      "source": [
        "***\n",
        "***\n",
        "__Question 8__ Implement the DQN training algorithm using a CNN (for example, 2 convolutional layers and one final fully connected layer)."
      ]
    },
    {
      "metadata": {
        "id": "9YazDFUk8OgD",
        "colab_type": "code",
        "colab": {}
      },
      "cell_type": "code",
      "source": [
        "class DQN_CNN(DQN):\n",
        "    def __init__(self, *args,lr=0.1,**kwargs):\n",
        "        super(DQN_CNN, self).__init__(*args,**kwargs)\n",
        "        \n",
        "        ###### FILL IN\n",
        "        model = Sequential()\n",
        "        model.add(Conv2D(64, kernel_size=(3, 3),\n",
        "                 activation='relu',\n",
        "                 input_shape=(5,5,self.n_state)))\n",
        "        model.add(Dropout(rate=0.1))\n",
        "        model.add(Conv2D(32, (3, 3), activation='relu'))\n",
        "        model.add(Flatten())\n",
        "        model.add(Dense(32))\n",
        "        model.add(Dropout(rate=0.1))\n",
        "        model.add(Dense(4))\n",
        "\n",
        "        model.compile(sgd(lr=lr, decay=1e-4, momentum=0.0), \"mse\")\n",
        "        self.model = model"
      ],
      "execution_count": 0,
      "outputs": []
    },
    {
      "metadata": {
        "id": "nyvpjOUF8OgG",
        "colab_type": "code",
        "outputId": "2d9d22db-1b48-4eec-a9a2-933230b09e37",
        "colab": {
          "base_uri": "https://localhost:8080/",
          "height": 704
        }
      },
      "cell_type": "code",
      "source": [
        "env = Environment(grid_size=size, max_time=T, temperature=0.3)\n",
        "agent = DQN_CNN(size, lr=.1, epsilon = 0.1, memory_size=2000, batch_size = 32)\n",
        "train(agent,env,epoch=30,prefix='cnn_train')\n",
        "HTML(display_videos('cnn_train10.mp4'))"
      ],
      "execution_count": 37,
      "outputs": [
        {
          "output_type": "stream",
          "text": [
            "Epoch 000/030 | Loss 0.0378 | Win/lose count 3.5/2.0 (1.5)\n",
            "Epoch 001/030 | Loss 0.1189 | Win/lose count 6.0/8.0 (-2.0)\n",
            "Epoch 002/030 | Loss 0.1246 | Win/lose count 5.0/3.0 (2.0)\n",
            "Epoch 003/030 | Loss 0.1717 | Win/lose count 3.5/0 (3.5)\n",
            "Epoch 004/030 | Loss 0.1749 | Win/lose count 3.5/0 (3.5)\n",
            "Epoch 005/030 | Loss 0.1979 | Win/lose count 4.5/1.0 (3.5)\n",
            "Epoch 006/030 | Loss 0.2626 | Win/lose count 7.5/3.0 (4.5)\n",
            "Epoch 007/030 | Loss 0.2833 | Win/lose count 3.0/2.0 (1.0)\n",
            "Epoch 008/030 | Loss 0.3150 | Win/lose count 4.0/4.0 (0.0)\n",
            "Epoch 009/030 | Loss 0.3442 | Win/lose count 7.5/2.0 (5.5)\n",
            "Epoch 010/030 | Loss 0.3716 | Win/lose count 9.5/3.0 (6.5)\n",
            "Epoch 011/030 | Loss 0.4505 | Win/lose count 7.0/1.0 (6.0)\n",
            "Epoch 012/030 | Loss 0.5781 | Win/lose count 9.0/2.0 (7.0)\n",
            "Epoch 013/030 | Loss 0.5792 | Win/lose count 2.0/4.0 (-2.0)\n",
            "Epoch 014/030 | Loss 0.6314 | Win/lose count 5.0/1.0 (4.0)\n",
            "Epoch 015/030 | Loss 0.6414 | Win/lose count 5.0/5.0 (0.0)\n",
            "Epoch 016/030 | Loss 0.7304 | Win/lose count 8.0/7.0 (1.0)\n",
            "Epoch 017/030 | Loss 0.8229 | Win/lose count 4.0/1.0 (3.0)\n",
            "Epoch 018/030 | Loss 0.8990 | Win/lose count 3.5/0 (3.5)\n",
            "Epoch 019/030 | Loss 0.7526 | Win/lose count 3.0/2.0 (1.0)\n",
            "Epoch 020/030 | Loss 0.7357 | Win/lose count 3.5/2.0 (1.5)\n",
            "Epoch 021/030 | Loss 0.6098 | Win/lose count 3.0/1.0 (2.0)\n",
            "Epoch 022/030 | Loss 0.5560 | Win/lose count 4.5/2.0 (2.5)\n",
            "Epoch 023/030 | Loss 0.5173 | Win/lose count 3.0/3.0 (0.0)\n",
            "Epoch 024/030 | Loss 0.4739 | Win/lose count 10.5/4.0 (6.5)\n",
            "Epoch 025/030 | Loss 0.4914 | Win/lose count 4.5/3.0 (1.5)\n",
            "Epoch 026/030 | Loss 0.4404 | Win/lose count 5.0/3.0 (2.0)\n",
            "Epoch 027/030 | Loss 0.4778 | Win/lose count 15.5/6.0 (9.5)\n",
            "Epoch 028/030 | Loss 0.5973 | Win/lose count 4.0/2.0 (2.0)\n",
            "Epoch 029/030 | Loss 0.8190 | Win/lose count 13.5/1.0 (12.5)\n"
          ],
          "name": "stdout"
        },
        {
          "output_type": "execute_result",
          "data": {
            "text/html": [
              "<video alt=\"test\" controls>\n",
              "                <source src=\"data:video/mp4;base64,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\" type=\"video/mp4\" />\n",
              "             </video>"
            ],
            "text/plain": [
              "<IPython.core.display.HTML object>"
            ]
          },
          "metadata": {
            "tags": []
          },
          "execution_count": 37
        }
      ]
    },
    {
      "metadata": {
        "id": "WHL1TgYa8OgL",
        "colab_type": "text"
      },
      "cell_type": "markdown",
      "source": [
        "***\n",
        "***\n",
        "__Question 9__ Test both algorithms and compare their performances. Which issue(s) do you observe? Observe also different behaviors by changing the temperature.\n",
        "\n",
        "Both algorithms seem to have roughly the same performance. The score gets higher when we increase temperature, but that is due to the fact that it is easier to win. The CNN agents takes longer to train.\n",
        "The agent seem to get stuck very quickly in both cases. When changing the temperature, this behaviour doesn't improve."
      ]
    },
    {
      "metadata": {
        "id": "UZ9TT2LO8OgM",
        "colab_type": "code",
        "outputId": "56e896aa-88ae-4894-e364-9bbb18b90ef6",
        "colab": {
          "base_uri": "https://localhost:8080/",
          "height": 444
        }
      },
      "cell_type": "code",
      "source": [
        "env = Environment(grid_size=size, max_time=T,temperature=0.4)\n",
        "agent_cnn = DQN_CNN(size, lr=.1, epsilon = 0.1, memory_size=2000, batch_size = 32)\n",
        "agent_cnn.load(name_weights='cnn_trainmodel.h5',name_model='cnn_trainmodel.json')\n",
        "\n",
        "agent_fc = DQN_FC(size, lr=.1, epsilon = 0.1, memory_size=2000, batch_size = 32)\n",
        "agent_cnn.load(name_weights='fc_trainmodel.h5',name_model='fc_trainmodel.json')\n",
        "print('Test of the CNN')\n",
        "test(agent_cnn,env,epochs_test,prefix='cnn_test')\n",
        "print('Test of the FC')\n",
        "test(agent_fc,env,epochs_test,prefix='fc_test')"
      ],
      "execution_count": 38,
      "outputs": [
        {
          "output_type": "stream",
          "text": [
            "Test of the CNN\n",
            "Win/lose count 2.5/3.0. Average score (-0.5)\n",
            "Win/lose count 7.5/3.0. Average score (2.0)\n",
            "Win/lose count 8.5/1.0. Average score (3.8333333333333335)\n",
            "Win/lose count 3.5/0. Average score (3.75)\n",
            "Win/lose count 4.5/2.0. Average score (3.5)\n",
            "Win/lose count 4.0/1.0. Average score (3.4166666666666665)\n",
            "Win/lose count 2.5/0. Average score (3.2857142857142856)\n",
            "Win/lose count 9.5/2.0. Average score (3.8125)\n",
            "Win/lose count 3.0/1.0. Average score (3.611111111111111)\n",
            "Win/lose count 6.5/1.0. Average score (3.8)\n",
            "Final score: 3.8\n",
            "Test of the FC\n",
            "Win/lose count 6.0/6.0. Average score (0.0)\n",
            "Win/lose count 3.5/1.0. Average score (1.25)\n",
            "Win/lose count 1.5/11.0. Average score (-2.3333333333333335)\n",
            "Win/lose count 3.0/1.0. Average score (-1.25)\n",
            "Win/lose count 3.0/4.0. Average score (-1.2)\n",
            "Win/lose count 2.0/4.0. Average score (-1.3333333333333333)\n",
            "Win/lose count 3.5/2.0. Average score (-0.9285714285714286)\n",
            "Win/lose count 2.0/1.0. Average score (-0.6875)\n",
            "Win/lose count 2.0/1.0. Average score (-0.5)\n",
            "Win/lose count 3.0/4.0. Average score (-0.55)\n",
            "Final score: -0.55\n"
          ],
          "name": "stdout"
        }
      ]
    },
    {
      "metadata": {
        "id": "Puv1MZ6C8OgR",
        "colab_type": "code",
        "outputId": "ac57ed32-cc84-40f4-dbd8-ce515e41f2de",
        "colab": {
          "base_uri": "https://localhost:8080/",
          "height": 292
        }
      },
      "cell_type": "code",
      "source": [
        "HTML(display_videos('cnn_test9.mp4'))"
      ],
      "execution_count": 44,
      "outputs": [
        {
          "output_type": "execute_result",
          "data": {
            "text/html": [
              "<video alt=\"test\" controls>\n",
              "                <source src=\"data:video/mp4;base64,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\" type=\"video/mp4\" />\n",
              "             </video>"
            ],
            "text/plain": [
              "<IPython.core.display.HTML object>"
            ]
          },
          "metadata": {
            "tags": []
          },
          "execution_count": 44
        }
      ]
    },
    {
      "metadata": {
        "id": "ehs_dbqO8OgT",
        "colab_type": "code",
        "outputId": "451d9ce0-9966-42c0-a76e-42ad0bb9f58d",
        "colab": {
          "base_uri": "https://localhost:8080/",
          "height": 292
        }
      },
      "cell_type": "code",
      "source": [
        "HTML(display_videos('fc_test9.mp4'))"
      ],
      "execution_count": 40,
      "outputs": [
        {
          "output_type": "execute_result",
          "data": {
            "text/html": [
              "<video alt=\"test\" controls>\n",
              "                <source src=\"data:video/mp4;base64,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\" type=\"video/mp4\" />\n",
              "             </video>"
            ],
            "text/plain": [
              "<IPython.core.display.HTML object>"
            ]
          },
          "metadata": {
            "tags": []
          },
          "execution_count": 40
        }
      ]
    },
    {
      "metadata": {
        "id": "NergRqKx8OgX",
        "colab_type": "text"
      },
      "cell_type": "markdown",
      "source": [
        ""
      ]
    },
    {
      "metadata": {
        "id": "9ndjy1q38OgY",
        "colab_type": "text"
      },
      "cell_type": "markdown",
      "source": [
        "***\n",
        "\n",
        "The algorithm tends to not explore the map which can be an issue. We propose two ideas in order to encourage exploration:\n",
        "1. Incorporating a decreasing $\\epsilon$-greedy exploration. You can use the method ```set_epsilon```\n",
        "2. Append via the environment a new state that describes if a cell has been visited or not\n",
        "\n",
        "***\n",
        "__Question 10__ Design a new ```train_explore``` function and environment class ```EnvironmentExploring``` to tackle the issue of exploration.\n",
        "\n"
      ]
    },
    {
      "metadata": {
        "id": "g86_3lPS8Ogc",
        "colab_type": "code",
        "colab": {}
      },
      "cell_type": "code",
      "source": [
        "def train_explore(agent,env,epoch,prefix=''):\n",
        "    # Number of won games\n",
        "    score = 0\n",
        "    loss = 0\n",
        "    \n",
        "    agent.epsilon = 1.\n",
        "\n",
        "    for e in range(epoch):\n",
        "        # At each epoch, we restart to a fresh game and get the initial state\n",
        "        state = env.reset()\n",
        "        # This assumes that the games will terminate\n",
        "        game_over = False\n",
        "\n",
        "        win = 0\n",
        "        lose = 0\n",
        "        \n",
        "        agent.epsilon = agent.epsilon*0.95\n",
        "        while not game_over:\n",
        "            # The agent performs an action\n",
        "            action = agent.act(state)\n",
        "\n",
        "            # Apply an action to the environment, get the next state, the reward\n",
        "            # and if the games end\n",
        "            prev_state = state\n",
        "            state, reward, game_over = env.act(action, train =True)\n",
        "\n",
        "            # Update the counters\n",
        "            if reward > 0:\n",
        "                win = win + reward\n",
        "            if reward < 0:\n",
        "                lose = lose -reward\n",
        "\n",
        "            # Apply the reinforcement strategy\n",
        "            loss = agent.reinforce(prev_state, state,  action, reward, game_over)\n",
        "\n",
        "        # Save as a mp4\n",
        "        if e % 10 == 0:\n",
        "            env.draw(prefix+str(e))\n",
        "\n",
        "        # Update stats\n",
        "        score += win-lose\n",
        "\n",
        "        print(\"Epoch {:03d}/{:03d} | Loss {:.4f} | Win/lose count {}/{} ({})\"\n",
        "              .format(e, epoch, loss, win, lose, win-lose))\n",
        "        agent.save(name_weights=prefix+'model.h5',name_model=prefix+'model.json')\n",
        "   \n",
        "    \n",
        "        \n",
        "class EnvironmentExploring(object):\n",
        "    def __init__(self, grid_size=10, max_time=500, temperature=0.1):\n",
        "        grid_size = grid_size+4\n",
        "        self.grid_size = grid_size\n",
        "        self.max_time = max_time\n",
        "        self.temperature = temperature\n",
        "\n",
        "        #board on which one plays\n",
        "        self.board = np.zeros((grid_size,grid_size))\n",
        "        self.position = np.zeros((grid_size,grid_size))\n",
        "        self.malus_position = np.zeros((grid_size,grid_size))\n",
        "        \n",
        "        # coordinate of the cat\n",
        "        self.x = 0\n",
        "        self.y = 1\n",
        "\n",
        "        # self time\n",
        "        self.t = 0\n",
        "\n",
        "        self.scale=16\n",
        "\n",
        "        self.to_draw = np.zeros((max_time+2, grid_size*self.scale, grid_size*self.scale, 3))\n",
        "        \n",
        "    def draw(self,e):\n",
        "        skvideo.io.vwrite(str(e) + '.mp4', self.to_draw)\n",
        "\n",
        "    def get_frame(self,t):\n",
        "        b = np.zeros((self.grid_size,self.grid_size,3))+128\n",
        "        b[self.board>0,0] = 256\n",
        "        b[self.board < 0, 2] = 256\n",
        "        b[self.x,self.y,:]=256\n",
        "        b[-2:,:,:]=0\n",
        "        b[:,-2:,:]=0\n",
        "        b[:2,:,:]=0\n",
        "        b[:,:2,:]=0\n",
        "        \n",
        "        b =  cv2.resize(b, None, fx=self.scale, fy=self.scale, interpolation=cv2.INTER_NEAREST)\n",
        "\n",
        "        self.to_draw[t,:,:,:]=b\n",
        "        \n",
        "    def act(self, action, train= False):\n",
        "        \"\"\"This function returns the new state, reward and decides if the\n",
        "        game ends.\"\"\"\n",
        "\n",
        "        self.get_frame(int(self.t))\n",
        "\n",
        "        self.position = np.zeros((self.grid_size, self.grid_size))\n",
        "\n",
        "        self.position[0:2,:]= -1\n",
        "        self.position[:,0:2] = -1\n",
        "        self.position[-2:, :] = -1\n",
        "        self.position[:, :-2] = -1\n",
        "\n",
        "        self.position[self.x, self.y] = 1\n",
        "        if action == 0:\n",
        "            if self.x == self.grid_size-3:\n",
        "                self.x = self.x-1\n",
        "            else:\n",
        "                self.x = self.x + 1\n",
        "        elif action == 1:\n",
        "            if self.x == 2:\n",
        "                self.x = self.x+1\n",
        "            else:\n",
        "                self.x = self.x-1\n",
        "        elif action == 2:\n",
        "            if self.y == self.grid_size - 3:\n",
        "                self.y = self.y - 1\n",
        "            else:\n",
        "                self.y = self.y + 1\n",
        "        elif action == 3:\n",
        "            if self.y == 2:\n",
        "                self.y = self.y + 1\n",
        "            else:\n",
        "                self.y = self.y - 1\n",
        "        else:\n",
        "            RuntimeError('Error: action not recognized')\n",
        "\n",
        "        self.t = self.t + 1\n",
        "        \n",
        "        reward = 0\n",
        "        if train:\n",
        "            reward = -self.malus_position[self.x, self.y]\n",
        "            self.malus_position[self.x, self.y] = 0.1\n",
        "        reward = reward + self.board[self.x, self.y]\n",
        "        \n",
        "        self.board[self.x, self.y] = 0\n",
        "        game_over = self.t > self.max_time\n",
        "        state = np.concatenate((self.malus_position.reshape(self.grid_size, self.grid_size,1),\n",
        "                        self.board.reshape(self.grid_size, self.grid_size,1),\n",
        "                        self.position.reshape(self.grid_size, self.grid_size,1)),axis=2)\n",
        "        state = state[self.x-2:self.x+3,self.y-2:self.y+3,:]\n",
        "\n",
        "        return state, reward, game_over\n",
        "\n",
        "    def reset(self):\n",
        "        \"\"\"This function resets the game and returns the initial state\"\"\"\n",
        "\n",
        "        self.x = np.random.randint(3, self.grid_size-3, size=1)[0]\n",
        "        self.y = np.random.randint(3, self.grid_size-3, size=1)[0]\n",
        "\n",
        "\n",
        "        bonus = 0.5*np.random.binomial(1,self.temperature,size=self.grid_size**2)\n",
        "        bonus = bonus.reshape(self.grid_size,self.grid_size)\n",
        "\n",
        "        malus = -1.0*np.random.binomial(1,self.temperature,size=self.grid_size**2)\n",
        "        malus = malus.reshape(self.grid_size, self.grid_size)\n",
        "\n",
        "        self.to_draw = np.zeros((self.max_time+2, self.grid_size*self.scale, self.grid_size*self.scale, 3))\n",
        "\n",
        "\n",
        "        malus[bonus>0]=0\n",
        "\n",
        "        self.board = bonus + malus\n",
        "\n",
        "        self.position = np.zeros((self.grid_size, self.grid_size))\n",
        "        self.position[0:2,:]= -1\n",
        "        self.position[:,0:2] = -1\n",
        "        self.position[-2:, :] = -1\n",
        "        self.position[-2:, :] = -1\n",
        "        self.board[self.x,self.y] = 0\n",
        "        self.t = 0\n",
        "        \n",
        "        self.malus_position = np.zeros((self.grid_size,self.grid_size))\n",
        "\n",
        "        state = np.concatenate((self.malus_position.reshape(self.grid_size, self.grid_size,1),\n",
        "                               self.board.reshape(self.grid_size, self.grid_size,1),\n",
        "                        self.position.reshape(self.grid_size, self.grid_size,1)),axis=2)\n",
        "\n",
        "        state = state[self.x - 2:self.x + 3, self.y - 2:self.y + 3, :]\n",
        "        return state\n"
      ],
      "execution_count": 0,
      "outputs": []
    },
    {
      "metadata": {
        "id": "jS1fMZUz8Ogf",
        "colab_type": "code",
        "outputId": "31b706c8-8814-43b0-ebf9-95a4141d78b0",
        "colab": {
          "base_uri": "https://localhost:8080/",
          "height": 1948
        }
      },
      "cell_type": "code",
      "source": [
        "# Training\n",
        "epochs_train = 100\n",
        "env = EnvironmentExploring(grid_size=size, max_time=T, temperature=0.3)\n",
        "agent = DQN_CNN(size, lr=.05, epsilon = 0.1, memory_size=2000, batch_size = 32,n_state=3)\n",
        "train_explore(agent, env, epochs_train, prefix='cnn_train_explore')\n",
        "HTML(display_videos('cnn_train_explore10.mp4'))"
      ],
      "execution_count": 42,
      "outputs": [
        {
          "output_type": "stream",
          "text": [
            "Epoch 000/100 | Loss 0.0201 | Win/lose count 11.0/26.300000000000047 (-15.300000000000047)\n",
            "Epoch 001/100 | Loss 0.0177 | Win/lose count 7.5/26.700000000000067 (-19.200000000000067)\n",
            "Epoch 002/100 | Loss 0.0193 | Win/lose count 10.5/30.600000000000037 (-20.100000000000037)\n",
            "Epoch 003/100 | Loss 0.0148 | Win/lose count 10.0/26.900000000000063 (-16.900000000000063)\n",
            "Epoch 004/100 | Loss 0.0188 | Win/lose count 13.5/20.800000000000033 (-7.300000000000033)\n",
            "Epoch 005/100 | Loss 0.0256 | Win/lose count 6.5/24.20000000000005 (-17.70000000000005)\n",
            "Epoch 006/100 | Loss 0.0175 | Win/lose count 11.5/27.800000000000058 (-16.300000000000058)\n",
            "Epoch 007/100 | Loss 0.0088 | Win/lose count 7.0/24.100000000000076 (-17.100000000000076)\n",
            "Epoch 008/100 | Loss 0.0153 | Win/lose count 13.5/23.400000000000066 (-9.900000000000066)\n",
            "Epoch 009/100 | Loss 0.0211 | Win/lose count 12.0/21.80000000000003 (-9.80000000000003)\n",
            "Epoch 010/100 | Loss 0.0411 | Win/lose count 8.0/23.200000000000063 (-15.200000000000063)\n",
            "Epoch 011/100 | Loss 0.0308 | Win/lose count 11.5/26.40000000000007 (-14.90000000000007)\n",
            "Epoch 012/100 | Loss 0.0468 | Win/lose count 12.0/25.60000000000007 (-13.600000000000069)\n",
            "Epoch 013/100 | Loss 0.0943 | Win/lose count 18.5/22.300000000000022 (-3.800000000000022)\n",
            "Epoch 014/100 | Loss 0.1125 | Win/lose count 11.0/23.500000000000043 (-12.500000000000043)\n",
            "Epoch 015/100 | Loss 0.1602 | Win/lose count 11.5/23.50000000000005 (-12.00000000000005)\n",
            "Epoch 016/100 | Loss 0.2189 | Win/lose count 15.0/18.09999999999999 (-3.0999999999999908)\n",
            "Epoch 017/100 | Loss 0.4494 | Win/lose count 21.5/19.50000000000003 (1.9999999999999716)\n",
            "Epoch 018/100 | Loss 0.4443 | Win/lose count 19.0/19.4 (-0.3999999999999986)\n",
            "Epoch 019/100 | Loss 0.8919 | Win/lose count 12.0/18.099999999999994 (-6.099999999999994)\n",
            "Epoch 020/100 | Loss 0.9121 | Win/lose count 20.5/17.199999999999985 (3.300000000000015)\n",
            "Epoch 021/100 | Loss 1.6393 | Win/lose count 12.0/16.899999999999974 (-4.899999999999974)\n",
            "Epoch 022/100 | Loss 0.7677 | Win/lose count 17.5/16.799999999999986 (0.7000000000000135)\n",
            "Epoch 023/100 | Loss 0.9180 | Win/lose count 8.0/17.999999999999993 (-9.999999999999993)\n",
            "Epoch 024/100 | Loss 0.7847 | Win/lose count 18.5/20.50000000000003 (-2.0000000000000284)\n",
            "Epoch 025/100 | Loss 0.8267 | Win/lose count 12.0/19.900000000000027 (-7.900000000000027)\n",
            "Epoch 026/100 | Loss 0.7495 | Win/lose count 18.0/14.199999999999966 (3.8000000000000345)\n",
            "Epoch 027/100 | Loss 0.5736 | Win/lose count 12.0/18.700000000000006 (-6.700000000000006)\n",
            "Epoch 028/100 | Loss 0.6659 | Win/lose count 19.0/14.999999999999966 (4.000000000000034)\n",
            "Epoch 029/100 | Loss 0.9122 | Win/lose count 13.0/16.099999999999962 (-3.0999999999999623)\n",
            "Epoch 030/100 | Loss 0.6680 | Win/lose count 18.0/15.099999999999977 (2.9000000000000234)\n",
            "Epoch 031/100 | Loss 0.7849 | Win/lose count 22.0/14.399999999999972 (7.600000000000028)\n",
            "Epoch 032/100 | Loss 0.7452 | Win/lose count 24.0/14.799999999999978 (9.200000000000022)\n",
            "Epoch 033/100 | Loss 0.8072 | Win/lose count 21.0/15.199999999999969 (5.800000000000031)\n",
            "Epoch 034/100 | Loss 0.6415 | Win/lose count 19.5/14.999999999999973 (4.500000000000027)\n",
            "Epoch 035/100 | Loss 0.6771 | Win/lose count 4.0/18.900000000000002 (-14.900000000000002)\n",
            "Epoch 036/100 | Loss 0.5447 | Win/lose count 2.0/21.000000000000032 (-19.000000000000032)\n",
            "Epoch 037/100 | Loss 0.5807 | Win/lose count 17.0/16.599999999999973 (0.400000000000027)\n",
            "Epoch 038/100 | Loss 0.6847 | Win/lose count 11.0/18.800000000000008 (-7.800000000000008)\n",
            "Epoch 039/100 | Loss 0.6147 | Win/lose count 14.5/14.699999999999964 (-0.19999999999996376)\n",
            "Epoch 040/100 | Loss 0.3779 | Win/lose count 18.0/17.599999999999977 (0.40000000000002345)\n",
            "Epoch 041/100 | Loss 0.3771 | Win/lose count 9.5/17.99999999999999 (-8.49999999999999)\n",
            "Epoch 042/100 | Loss 0.3920 | Win/lose count 19.5/18.400000000000006 (1.0999999999999943)\n",
            "Epoch 043/100 | Loss 0.1607 | Win/lose count 17.5/16.599999999999977 (0.9000000000000234)\n",
            "Epoch 044/100 | Loss 0.2165 | Win/lose count 10.0/17.29999999999998 (-7.299999999999979)\n",
            "Epoch 045/100 | Loss 0.4593 | Win/lose count 14.0/15.399999999999967 (-1.3999999999999666)\n",
            "Epoch 046/100 | Loss 0.4511 | Win/lose count 12.5/17.699999999999992 (-5.199999999999992)\n",
            "Epoch 047/100 | Loss 0.2871 | Win/lose count 17.5/16.499999999999975 (1.0000000000000249)\n",
            "Epoch 048/100 | Loss 0.1995 | Win/lose count 9.0/18.29999999999998 (-9.29999999999998)\n",
            "Epoch 049/100 | Loss 0.2188 | Win/lose count 13.0/15.69999999999996 (-2.69999999999996)\n",
            "Epoch 050/100 | Loss 0.0869 | Win/lose count 16.5/13.599999999999968 (2.9000000000000323)\n",
            "Epoch 051/100 | Loss 0.1248 | Win/lose count 7.0/18.7 (-11.7)\n",
            "Epoch 052/100 | Loss 0.0999 | Win/lose count 13.5/14.799999999999963 (-1.2999999999999634)\n",
            "Epoch 053/100 | Loss 0.1114 | Win/lose count 22.0/13.699999999999973 (8.300000000000027)\n",
            "Epoch 054/100 | Loss 0.0824 | Win/lose count 3.0/20.600000000000026 (-17.600000000000026)\n",
            "Epoch 055/100 | Loss 0.0618 | Win/lose count 13.0/17.599999999999984 (-4.599999999999984)\n",
            "Epoch 056/100 | Loss 0.1235 | Win/lose count 17.5/14.799999999999967 (2.700000000000033)\n",
            "Epoch 057/100 | Loss 0.0898 | Win/lose count 6.5/19.300000000000004 (-12.800000000000004)\n",
            "Epoch 058/100 | Loss 0.0166 | Win/lose count 19.0/15.799999999999963 (3.2000000000000366)\n",
            "Epoch 059/100 | Loss 0.0546 | Win/lose count 11.5/18.799999999999997 (-7.299999999999997)\n",
            "Epoch 060/100 | Loss 0.0254 | Win/lose count 5.0/20.300000000000004 (-15.300000000000004)\n",
            "Epoch 061/100 | Loss 0.0198 | Win/lose count 13.0/17.899999999999977 (-4.899999999999977)\n",
            "Epoch 062/100 | Loss 0.0108 | Win/lose count 3.5/20.100000000000026 (-16.600000000000026)\n",
            "Epoch 063/100 | Loss 0.0167 | Win/lose count 12.5/18.899999999999995 (-6.399999999999995)\n",
            "Epoch 064/100 | Loss 0.0099 | Win/lose count 20.5/14.599999999999968 (5.900000000000032)\n",
            "Epoch 065/100 | Loss 0.0165 | Win/lose count 16.5/15.199999999999969 (1.300000000000031)\n",
            "Epoch 066/100 | Loss 0.0209 | Win/lose count 12.0/15.299999999999962 (-3.2999999999999616)\n",
            "Epoch 067/100 | Loss 0.0390 | Win/lose count 12.0/15.699999999999964 (-3.6999999999999638)\n",
            "Epoch 068/100 | Loss 0.0221 | Win/lose count 14.5/16.299999999999972 (-1.7999999999999723)\n",
            "Epoch 069/100 | Loss 0.0207 | Win/lose count 14.0/15.399999999999965 (-1.3999999999999648)\n",
            "Epoch 070/100 | Loss 0.0269 | Win/lose count 12.5/17.499999999999986 (-4.999999999999986)\n",
            "Epoch 071/100 | Loss 0.0612 | Win/lose count 16.5/15.199999999999962 (1.300000000000038)\n",
            "Epoch 072/100 | Loss 0.1203 | Win/lose count 13.0/14.999999999999963 (-1.9999999999999627)\n",
            "Epoch 073/100 | Loss 0.1154 | Win/lose count 11.5/16.499999999999964 (-4.9999999999999645)\n",
            "Epoch 074/100 | Loss 0.1387 | Win/lose count 10.5/17.199999999999978 (-6.699999999999978)\n",
            "Epoch 075/100 | Loss 0.0656 | Win/lose count 8.0/16.999999999999975 (-8.999999999999975)\n",
            "Epoch 076/100 | Loss 0.0993 | Win/lose count 11.5/16.999999999999975 (-5.499999999999975)\n",
            "Epoch 077/100 | Loss 0.0628 | Win/lose count 14.0/15.799999999999962 (-1.7999999999999616)\n",
            "Epoch 078/100 | Loss 0.0557 | Win/lose count 3.5/18.9 (-15.399999999999999)\n",
            "Epoch 079/100 | Loss 0.0225 | Win/lose count 9.5/16.19999999999996 (-6.69999999999996)\n",
            "Epoch 080/100 | Loss 0.0506 | Win/lose count 20.5/12.099999999999975 (8.400000000000025)\n",
            "Epoch 081/100 | Loss 0.0499 | Win/lose count 19.5/16.599999999999973 (2.900000000000027)\n",
            "Epoch 082/100 | Loss 0.0354 | Win/lose count 7.5/18.699999999999996 (-11.199999999999996)\n",
            "Epoch 083/100 | Loss 0.0299 | Win/lose count 2.5/20.10000000000002 (-17.60000000000002)\n",
            "Epoch 084/100 | Loss 0.0388 | Win/lose count 7.5/18.8 (-11.3)\n",
            "Epoch 085/100 | Loss 0.0276 | Win/lose count 7.5/18.9 (-11.399999999999999)\n",
            "Epoch 086/100 | Loss 0.0381 | Win/lose count 21.5/13.89999999999997 (7.60000000000003)\n",
            "Epoch 087/100 | Loss 0.0700 | Win/lose count 22.5/12.89999999999997 (9.60000000000003)\n",
            "Epoch 088/100 | Loss 0.2002 | Win/lose count 3.5/18.19999999999999 (-14.699999999999989)\n",
            "Epoch 089/100 | Loss 0.1176 | Win/lose count 15.5/14.499999999999964 (1.0000000000000355)\n",
            "Epoch 090/100 | Loss 0.0354 | Win/lose count 11.5/17.59999999999998 (-6.09999999999998)\n",
            "Epoch 091/100 | Loss 0.0814 | Win/lose count 17.0/17.499999999999993 (-0.4999999999999929)\n",
            "Epoch 092/100 | Loss 0.0666 | Win/lose count 11.0/16.99999999999997 (-5.999999999999972)\n",
            "Epoch 093/100 | Loss 0.0354 | Win/lose count 8.5/17.49999999999998 (-8.999999999999979)\n",
            "Epoch 094/100 | Loss 0.0576 | Win/lose count 8.0/17.59999999999998 (-9.59999999999998)\n",
            "Epoch 095/100 | Loss 0.0873 | Win/lose count 17.0/15.799999999999967 (1.200000000000033)\n",
            "Epoch 096/100 | Loss 0.0647 | Win/lose count 8.5/17.799999999999983 (-9.299999999999983)\n",
            "Epoch 097/100 | Loss 0.0954 | Win/lose count 24.0/10.699999999999978 (13.300000000000022)\n",
            "Epoch 098/100 | Loss 0.2344 | Win/lose count 21.5/12.599999999999978 (8.900000000000022)\n",
            "Epoch 099/100 | Loss 0.1388 | Win/lose count 12.0/15.79999999999996 (-3.79999999999996)\n"
          ],
          "name": "stdout"
        },
        {
          "output_type": "execute_result",
          "data": {
            "text/html": [
              "<video alt=\"test\" controls>\n",
              "                <source src=\"data:video/mp4;base64,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\" type=\"video/mp4\" />\n",
              "             </video>"
            ],
            "text/plain": [
              "<IPython.core.display.HTML object>"
            ]
          },
          "metadata": {
            "tags": []
          },
          "execution_count": 42
        }
      ]
    },
    {
      "metadata": {
        "id": "X3lY1dcc8Ogj",
        "colab_type": "code",
        "outputId": "030d83dc-76d6-4994-9475-8d2c2071c71f",
        "colab": {
          "base_uri": "https://localhost:8080/",
          "height": 366
        }
      },
      "cell_type": "code",
      "source": [
        "# Evaluation\n",
        "test(agent,env,epochs_test,prefix='cnn_test_explore')\n",
        "HTML(display_videos('cnn_test_explore9.mp4'))"
      ],
      "execution_count": 43,
      "outputs": [
        {
          "output_type": "stream",
          "text": [
            "Win/lose count 9.0/2.0. Average score (7.0)\n",
            "Win/lose count 14.0/1.0. Average score (10.0)\n",
            "Win/lose count 8.5/1.0. Average score (9.166666666666666)\n",
            "Win/lose count 8.0/0. Average score (8.875)\n",
            "Win/lose count 5.5/0. Average score (8.2)\n",
            "Win/lose count 12.5/0. Average score (8.916666666666666)\n",
            "Win/lose count 21.0/4.0. Average score (10.071428571428571)\n",
            "Win/lose count 21.5/3.0. Average score (11.125)\n",
            "Win/lose count 11.5/1.0. Average score (11.055555555555555)\n",
            "Win/lose count 5.0/1.0. Average score (10.35)\n",
            "Final score: 10.35\n"
          ],
          "name": "stdout"
        },
        {
          "output_type": "execute_result",
          "data": {
            "text/html": [
              "<video alt=\"test\" controls>\n",
              "                <source src=\"data:video/mp4;base64,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\" type=\"video/mp4\" />\n",
              "             </video>"
            ],
            "text/plain": [
              "<IPython.core.display.HTML object>"
            ]
          },
          "metadata": {
            "tags": []
          },
          "execution_count": 43
        }
      ]
    },
    {
      "metadata": {
        "id": "9O3SLuRy8Ogm",
        "colab_type": "text"
      },
      "cell_type": "markdown",
      "source": [
        "***\n",
        "***\n",
        "__BONUS question__ Use the expert DQN from the previous question to generate some winning games. Train a model that mimicks its behavior. Compare the performances."
      ]
    },
    {
      "metadata": {
        "id": "Z-VkV82r8Ogn",
        "colab_type": "text"
      },
      "cell_type": "markdown",
      "source": [
        ""
      ]
    },
    {
      "metadata": {
        "id": "fBTDMb068Ogn",
        "colab_type": "text"
      },
      "cell_type": "markdown",
      "source": [
        "***"
      ]
    }
  ]
}